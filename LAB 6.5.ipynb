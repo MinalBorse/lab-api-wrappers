{
 "cells": [
  {
   "cell_type": "code",
   "execution_count": 26,
   "id": "1db41274",
   "metadata": {},
   "outputs": [],
   "source": [
    "#!pip install spotipy"
   ]
  },
  {
   "cell_type": "code",
   "execution_count": 2,
   "id": "8e1afc30",
   "metadata": {},
   "outputs": [],
   "source": [
    "import spotipy\n",
    "from spotipy.oauth2 import SpotifyClientCredentials"
   ]
  },
  {
   "cell_type": "code",
   "execution_count": null,
   "id": "cdc9017d",
   "metadata": {},
   "outputs": [],
   "source": []
  },
  {
   "cell_type": "code",
   "execution_count": 3,
   "id": "079e94e2",
   "metadata": {},
   "outputs": [],
   "source": [
    "\n",
    "#Initialize SpotiPy with user credentials\n",
    "sp = spotipy.Spotify(auth_manager=SpotifyClientCredentials(client_id='x',\n",
    "                                                           client_secret='x'))"
   ]
  },
  {
   "cell_type": "code",
   "execution_count": 4,
   "id": "87fbb854",
   "metadata": {},
   "outputs": [],
   "source": [
    "# we will need more songs for our clustering\n",
    "#this is the playlist of previous cohorts\n",
    "playlist = sp.user_playlist_tracks(\"spotify\", \"4rnleEAOdmFAbRcNCgZMpY\")"
   ]
  },
  {
   "cell_type": "code",
   "execution_count": 5,
   "id": "820948db",
   "metadata": {},
   "outputs": [],
   "source": [
    "#''' What we need:\n",
    "# 1) Get Playlist [x]\n",
    "# 2) Get artist name from each song of the playlist\n",
    "# 3) Get all albums from each of the artists\n",
    "# 4) Get all songs from each of the albums\n",
    " #5) Get URI's for all the songs\n"
   ]
  },
  {
   "cell_type": "code",
   "execution_count": 6,
   "id": "0da4e577",
   "metadata": {},
   "outputs": [],
   "source": [
    "# we will need more songs for our clustering\n",
    "#this is the playlist of previous cohorts\n",
    "playlist = sp.user_playlist_tracks(\"spotify\", \"0BUNSGihi2mrhQu3fPcVim\")\n",
    " \n"
   ]
  },
  {
   "cell_type": "code",
   "execution_count": 7,
   "id": "0ee28722",
   "metadata": {},
   "outputs": [
    {
     "data": {
      "text/plain": [
       "813"
      ]
     },
     "execution_count": 7,
     "metadata": {},
     "output_type": "execute_result"
    }
   ],
   "source": [
    "playlist[\"total\"]"
   ]
  },
  {
   "cell_type": "code",
   "execution_count": 8,
   "id": "98c7f28c",
   "metadata": {},
   "outputs": [
    {
     "data": {
      "text/plain": [
       "100"
      ]
     },
     "execution_count": 8,
     "metadata": {},
     "output_type": "execute_result"
    }
   ],
   "source": [
    "# It is limited to 100 tracks, we will have to fix it:\n",
    "len(playlist[\"items\"])"
   ]
  },
  {
   "cell_type": "code",
   "execution_count": 9,
   "id": "d05f3803",
   "metadata": {},
   "outputs": [
    {
     "data": {
      "text/plain": [
       "'https://api.spotify.com/v1/playlists/0BUNSGihi2mrhQu3fPcVim/tracks?offset=100&limit=100&additional_types=track'"
      ]
     },
     "execution_count": 9,
     "metadata": {},
     "output_type": "execute_result"
    }
   ],
   "source": [
    "playlist['next']"
   ]
  },
  {
   "cell_type": "code",
   "execution_count": 10,
   "id": "e6c0718d",
   "metadata": {},
   "outputs": [
    {
     "data": {
      "text/plain": [
       "'https://api.spotify.com/v1/playlists/0BUNSGihi2mrhQu3fPcVim/tracks?offset=100&limit=100&additional_types=track'"
      ]
     },
     "execution_count": 10,
     "metadata": {},
     "output_type": "execute_result"
    }
   ],
   "source": [
    "playlist['next']"
   ]
  },
  {
   "cell_type": "code",
   "execution_count": 24,
   "id": "5c9e05b4",
   "metadata": {},
   "outputs": [],
   "source": [
    "#sp.next(playlist)"
   ]
  },
  {
   "cell_type": "code",
   "execution_count": 12,
   "id": "34915e10",
   "metadata": {},
   "outputs": [],
   "source": [
    "from random import randint\n",
    "from time import sleep\n",
    "\n",
    "def get_playlist_tracks(playlist_id):\n",
    "    results = sp.user_playlist_tracks(\"spotify\",playlist_id)\n",
    "    tracks = results['items']\n",
    "    while results['next']!=None:\n",
    "        results = sp.next(results)\n",
    "        tracks = tracks + results['items']\n",
    "        sleep(randint(1,3))\n",
    "    return tracks"
   ]
  },
  {
   "cell_type": "code",
   "execution_count": 13,
   "id": "15d22607",
   "metadata": {},
   "outputs": [
    {
     "data": {
      "text/plain": [
       "813"
      ]
     },
     "execution_count": 13,
     "metadata": {},
     "output_type": "execute_result"
    }
   ],
   "source": [
    "# this will take at least around num_songs_in_playlist * (avg_sleep_time + processing_time) = 53 * (2+0.1) = 110 seconds\n",
    "\n",
    "all_tracks = get_playlist_tracks(\"0BUNSGihi2mrhQu3fPcVim\")\n",
    "len(all_tracks)"
   ]
  },
  {
   "cell_type": "code",
   "execution_count": 14,
   "id": "38a2c4c8",
   "metadata": {},
   "outputs": [],
   "source": [
    "#Audio features"
   ]
  },
  {
   "cell_type": "code",
   "execution_count": 15,
   "id": "5f8111f3",
   "metadata": {},
   "outputs": [],
   "source": [
    "# here we look only at the first page\n",
    "playlist = sp.user_playlist_tracks(\"spotify\", \"0BUNSGihi2mrhQu3fPcVim\")"
   ]
  },
  {
   "cell_type": "code",
   "execution_count": 16,
   "id": "0b8dfff0",
   "metadata": {},
   "outputs": [
    {
     "data": {
      "text/plain": [
       "'Role of A Lifetime'"
      ]
     },
     "execution_count": 16,
     "metadata": {},
     "output_type": "execute_result"
    }
   ],
   "source": [
    "playlist[\"items\"][33][\"track\"][\"name\"]"
   ]
  },
  {
   "cell_type": "code",
   "execution_count": 17,
   "id": "496ab2c9",
   "metadata": {},
   "outputs": [],
   "source": [
    "# get the uri of a single song:\n",
    "song_uri = playlist[\"items\"][33][\"track\"][\"uri\"]"
   ]
  },
  {
   "cell_type": "code",
   "execution_count": 18,
   "id": "8be0f402",
   "metadata": {},
   "outputs": [
    {
     "data": {
      "text/plain": [
       "[{'danceability': 0.469,\n",
       "  'energy': 0.212,\n",
       "  'key': 2,\n",
       "  'loudness': -12.13,\n",
       "  'mode': 0,\n",
       "  'speechiness': 0.0341,\n",
       "  'acousticness': 0.652,\n",
       "  'instrumentalness': 0.00113,\n",
       "  'liveness': 0.104,\n",
       "  'valence': 0.147,\n",
       "  'tempo': 144.243,\n",
       "  'type': 'audio_features',\n",
       "  'id': '7DdkL7YtSRFZotD4qZloRG',\n",
       "  'uri': 'spotify:track:7DdkL7YtSRFZotD4qZloRG',\n",
       "  'track_href': 'https://api.spotify.com/v1/tracks/7DdkL7YtSRFZotD4qZloRG',\n",
       "  'analysis_url': 'https://api.spotify.com/v1/audio-analysis/7DdkL7YtSRFZotD4qZloRG',\n",
       "  'duration_ms': 213020,\n",
       "  'time_signature': 3}]"
      ]
     },
     "execution_count": 18,
     "metadata": {},
     "output_type": "execute_result"
    }
   ],
   "source": [
    "# get the audio features for that song\n",
    "sp.audio_features(song_uri)"
   ]
  },
  {
   "cell_type": "code",
   "execution_count": 19,
   "id": "e474fbd7",
   "metadata": {},
   "outputs": [],
   "source": [
    "# get the uri of a single song:\n",
    "song_uri = playlist[\"items\"][46][\"track\"][\"uri\"]"
   ]
  },
  {
   "cell_type": "code",
   "execution_count": 20,
   "id": "73fe934e",
   "metadata": {},
   "outputs": [
    {
     "data": {
      "text/plain": [
       "[{'danceability': 0.695,\n",
       "  'energy': 0.869,\n",
       "  'key': 8,\n",
       "  'loudness': -5.066,\n",
       "  'mode': 1,\n",
       "  'speechiness': 0.0483,\n",
       "  'acousticness': 0.41,\n",
       "  'instrumentalness': 0,\n",
       "  'liveness': 0.237,\n",
       "  'valence': 0.58,\n",
       "  'tempo': 124.989,\n",
       "  'type': 'audio_features',\n",
       "  'id': '05SBRd4fXgn8FX7bf8BCAE',\n",
       "  'uri': 'spotify:track:05SBRd4fXgn8FX7bf8BCAE',\n",
       "  'track_href': 'https://api.spotify.com/v1/tracks/05SBRd4fXgn8FX7bf8BCAE',\n",
       "  'analysis_url': 'https://api.spotify.com/v1/audio-analysis/05SBRd4fXgn8FX7bf8BCAE',\n",
       "  'duration_ms': 234507,\n",
       "  'time_signature': 4}]"
      ]
     },
     "execution_count": 20,
     "metadata": {},
     "output_type": "execute_result"
    }
   ],
   "source": [
    "# get the audio features for that song\n",
    "sp.audio_features(song_uri)"
   ]
  },
  {
   "cell_type": "code",
   "execution_count": 25,
   "id": "619ea444",
   "metadata": {},
   "outputs": [],
   "source": [
    "def uris(all_tracks):\n",
    "    uris = [all_tracks[i]['track']['uri'] for i in range(len(all_tracks))]\n",
    "    return uris\n",
    "uris = uris(all_tracks)"
   ]
  },
  {
   "cell_type": "code",
   "execution_count": 22,
   "id": "4c3522aa",
   "metadata": {},
   "outputs": [],
   "source": [
    "def all_artists(all_tracks):\n",
    "    artist = [all_tracks[i]['track']['artists'][0]['name'] for i in range(len(all_tracks))]\n",
    "    return artist"
   ]
  },
  {
   "cell_type": "code",
   "execution_count": 23,
   "id": "a61ba614",
   "metadata": {},
   "outputs": [],
   "source": [
    "#Incomplete"
   ]
  },
  {
   "cell_type": "code",
   "execution_count": null,
   "id": "5b037044",
   "metadata": {},
   "outputs": [],
   "source": []
  },
  {
   "cell_type": "code",
   "execution_count": null,
   "id": "5c169d7d",
   "metadata": {},
   "outputs": [],
   "source": []
  },
  {
   "cell_type": "code",
   "execution_count": null,
   "id": "b7b29cc1",
   "metadata": {},
   "outputs": [],
   "source": []
  },
  {
   "cell_type": "code",
   "execution_count": null,
   "id": "b5ebe290",
   "metadata": {},
   "outputs": [],
   "source": []
  },
  {
   "cell_type": "code",
   "execution_count": null,
   "id": "f3205497",
   "metadata": {},
   "outputs": [],
   "source": []
  },
  {
   "cell_type": "code",
   "execution_count": null,
   "id": "2808f563",
   "metadata": {},
   "outputs": [],
   "source": []
  }
 ],
 "metadata": {
  "kernelspec": {
   "display_name": "Python 3",
   "language": "python",
   "name": "python3"
  },
  "language_info": {
   "codemirror_mode": {
    "name": "ipython",
    "version": 3
   },
   "file_extension": ".py",
   "mimetype": "text/x-python",
   "name": "python",
   "nbconvert_exporter": "python",
   "pygments_lexer": "ipython3",
   "version": "3.8.8"
  }
 },
 "nbformat": 4,
 "nbformat_minor": 5
}
